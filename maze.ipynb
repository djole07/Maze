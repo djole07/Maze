{
  "nbformat": 4,
  "nbformat_minor": 0,
  "metadata": {
    "colab": {
      "provenance": [],
      "collapsed_sections": [
        "q1dSqSUTi6fK",
        "v_OxQsH73D9T",
        "RoPnkoFxlEm2",
        "Ltc8htiXsfjj",
        "hCR1BGa5XyFs",
        "q3JEmDcmX2qj"
      ]
    },
    "kernelspec": {
      "name": "python3",
      "display_name": "Python 3"
    },
    "language_info": {
      "name": "python"
    }
  },
  "cells": [
    {
      "cell_type": "markdown",
      "source": [
        "# Problem lavirinta\n",
        "\n"
      ],
      "metadata": {
        "id": "PWSAlHiPi0ha"
      }
    },
    {
      "cell_type": "markdown",
      "source": [
        "## Imports"
      ],
      "metadata": {
        "id": "q1dSqSUTi6fK"
      }
    },
    {
      "cell_type": "code",
      "source": [
        "from typing import Iterable\n",
        "import random\n",
        "\n",
        "import numpy as np\n",
        "import matplotlib.pyplot as plt\n",
        "\n",
        "from tqdm import trange\n",
        "\n",
        "import copy\n",
        "import math\n",
        "from PIL import Image"
      ],
      "metadata": {
        "id": "Babn5NStjBsq"
      },
      "execution_count": 28,
      "outputs": []
    },
    {
      "cell_type": "code",
      "source": [
        "from abc import ABC, abstractmethod"
      ],
      "metadata": {
        "id": "IhyItprpjzLr"
      },
      "execution_count": 29,
      "outputs": []
    },
    {
      "cell_type": "markdown",
      "source": [
        "## Parameters"
      ],
      "metadata": {
        "id": "G7EbVPCHjGT6"
      }
    },
    {
      "cell_type": "markdown",
      "source": [
        "Definisanje dimenzija lavirinta"
      ],
      "metadata": {
        "id": "VYs79yHEjOt6"
      }
    },
    {
      "cell_type": "code",
      "source": [
        "''' Defines dimensions of the maze, ROWS*COLUMNS '''\n",
        "ROWS = 10;\n",
        "COLUMNS = 10;\n",
        "\n",
        "''' Defining the number of each obstacles'''\n",
        "NUMBER_OF_TRAPS = 10;\n",
        "NUMBER_OF_TERMINALS = 3;\n",
        "NUMBER_OF_ADDED_WALLS = 10;\n",
        "\n",
        "''' Number of points that we get if steping on terminal or trap cell'''\n",
        "REWARD_TERMINAL = 0;\n",
        "REWARD_TRAP = -5;\n",
        "\n",
        "''' Defining color for each obstacle coded in hex value'''\n",
        "COLOUR_REGULAR = \"#ffffff\"      # white\n",
        "COLOUR_WALL = \"#A1A2A6\"         # grey\n",
        "COLOUR_PLAYER = \"#14328C\"       # blue\n",
        "COLOUR_TERMINAL = \"#3CA66A\"     # green\n",
        "COLOUR_TRAP = \"#D92E1E\"         # red\n",
        "COLOUR_TELEPORT = \"#F2B84B\"     # yellow\n",
        "COLOUR_TELEPORT_TO = \"#F2D091\"  # brighter yellow\n"
      ],
      "metadata": {
        "id": "q6TbaLxMjKSi"
      },
      "execution_count": 30,
      "outputs": []
    },
    {
      "cell_type": "markdown",
      "source": [
        "## Classes"
      ],
      "metadata": {
        "id": "7B5cUcnb2_r0"
      }
    },
    {
      "cell_type": "code",
      "source": [
        "class Cell(ABC):\n",
        "    '''Base class for everuy cell.'''\n",
        "    @abstractmethod\n",
        "    def get_reward(self) -> float:\n",
        "        pass"
      ],
      "metadata": {
        "id": "5EncjZbxjna6"
      },
      "execution_count": 31,
      "outputs": []
    },
    {
      "cell_type": "code",
      "source": [
        "class RegularCell(Cell):\n",
        "    \"\"\"A class that implements a regular cell - regular cells.\"\"\"\n",
        "\n",
        "    def __init__(self, reward: float):\n",
        "        \"\"\"Initialize the reward which player recieves when she/he steps on it.\n",
        "\n",
        "        Args:\n",
        "            reward (float): Defines the cost/reward of the cell.\n",
        "        \"\"\"\n",
        "        self.reward = reward\n",
        "\n",
        "    def get_reward(self) -> float:\n",
        "        \"\"\"Returns the reward from the cell.\n",
        "\n",
        "        Returns:\n",
        "            float: The recieved reward.\n",
        "        \"\"\"\n",
        "        return self.reward"
      ],
      "metadata": {
        "id": "TBKW0QQDoDlc"
      },
      "execution_count": 32,
      "outputs": []
    },
    {
      "cell_type": "code",
      "source": [
        "class TrapCell(Cell):\n",
        "    \"\"\"A class that implements a trap cell - trap cells.\"\"\"\n",
        "\n",
        "    def __init__(self, reward: float):\n",
        "        \"\"\"Initialize the reward which player recieves when she/he steps on it.\n",
        "\n",
        "        Args:\n",
        "            reward (float): Defines the cost/reward of the cell.\n",
        "        \"\"\"\n",
        "        self.reward = reward\n",
        "\n",
        "    def get_reward(self) -> float:\n",
        "        \"\"\"Returns the reward from the cell.\n",
        "\n",
        "        Returns:\n",
        "            float: The recieved reward.\n",
        "        \"\"\"\n",
        "        return self.reward"
      ],
      "metadata": {
        "id": "567NIFOcylkL"
      },
      "execution_count": 33,
      "outputs": []
    },
    {
      "cell_type": "code",
      "source": [
        "class TerminalCell(Cell):\n",
        "    \"\"\"A class that implements a terminal cell.\"\"\"\n",
        "\n",
        "    def __init__(self, reward: float):\n",
        "        \"\"\"Initialize the reward which player recieves when she/he steps on it.\n",
        "\n",
        "        Args:\n",
        "            reward (float): Defines the cost/reward of the cell.\n",
        "        \"\"\"\n",
        "        self.reward = reward\n",
        "\n",
        "    def get_reward(self) -> float:\n",
        "        \"\"\"Returns the reward from the cell.\n",
        "\n",
        "        Returns:\n",
        "            float: The recieved reward.\n",
        "        \"\"\"\n",
        "        return self.reward"
      ],
      "metadata": {
        "id": "sS5i5beJpp3b"
      },
      "execution_count": 34,
      "outputs": []
    },
    {
      "cell_type": "code",
      "source": [
        "class TeleportCell():\n",
        "  \"\"\"A class that implements a teleport cell.\"\"\"\n",
        "  def __init__(self, reward: float, to_pos_x: int, to_pos_y: int):\n",
        "        \"\"\"Initialize the reward which player recieves when she/he steps on it.\n",
        "\n",
        "        Args:\n",
        "            reward (float): Defines the cost/reward of the cell.\n",
        "            to_pos_x (int): Defines the x coordinate that teleport points to.\n",
        "            to_pos_y (int): Defines the y coordinate that teleport points to.\n",
        "        \"\"\"\n",
        "        self.reward = reward\n",
        "        self.to_pos_x = to_pos_x\n",
        "        self.to_pos_y = to_pos_y\n",
        "\n",
        "  def get_reward(self) -> float:\n",
        "        \"\"\"Returns the reward from the cell.\n",
        "\n",
        "        Returns:\n",
        "            float: The recieved reward.\n",
        "        \"\"\"\n",
        "        return self.reward"
      ],
      "metadata": {
        "id": "8zsqN3e5z-m6"
      },
      "execution_count": 35,
      "outputs": []
    },
    {
      "cell_type": "code",
      "source": [
        "class WallCell(Cell):\n",
        "    \"\"\"A class that implements a wall cell.\"\"\"\n",
        "\n",
        "    def __init__(self, reward: float):\n",
        "        \"\"\"Initialize the reward which player recieves when she/he steps on it.\n",
        "\n",
        "        Args:\n",
        "            reward (float): Defines the cost/reward of the cell.\n",
        "        \"\"\"\n",
        "        self.reward = reward\n",
        "\n",
        "    def get_reward(self) -> float:\n",
        "        \"\"\"Returns the reward from the cell.\n",
        "\n",
        "        Returns:\n",
        "            float: The recieved reward that player would never recieves.\n",
        "        \"\"\"\n",
        "        return self.reward"
      ],
      "metadata": {
        "id": "YbA14TSPqgSq"
      },
      "execution_count": 36,
      "outputs": []
    },
    {
      "cell_type": "code",
      "source": [
        "class Player():\n",
        "  def __init__(self, positionX: int, positionY: int, points=0):\n",
        "      \"\"\"Initialize the player.\n",
        "\n",
        "      Args:\n",
        "          positionX (int): Current position of the player on the x axis.\n",
        "          positionY (int): Current position of the player on the y axis, starting from the top side of the table.\n",
        "          points (int): Storing total reward throught game.\n",
        "\n",
        "      \"\"\"\n",
        "      self.positionX = positionX\n",
        "      self.positionY = positionY\n",
        "      self.points = points"
      ],
      "metadata": {
        "id": "eS_SjKXASMoo"
      },
      "execution_count": 37,
      "outputs": []
    },
    {
      "cell_type": "code",
      "source": [
        "class Board():\n",
        "    def __init__(self, rows: int, columns: int, initial_player_x: int, initial_player_y: int, initial_player_points = 0):\n",
        "        \"\"\"Initialize the board on which player/agent explores labyrinth.\n",
        "\n",
        "        Args:\n",
        "            rows (int): Defines the number of board rows.\n",
        "            columns (int): Defines the number of board columns.\n",
        "            initial_player_x (int): Defines the initial position of a player - x coordinate.\n",
        "            initial_plyer_y (int): Defines the initial position of a player - y coordinate.\n",
        "            initial_player_points (int): Defines the starting points that player has.\n",
        "        \"\"\"\n",
        "        self.rows = rows\n",
        "        self.columns = columns\n",
        "        self.player_x = initial_player_x\n",
        "        self.player_y = initial_player_y\n",
        "        self.player_points = initial_player_points\n",
        "        self.game_over = False\n",
        "        self.state_list = []\n",
        "\n",
        "        self.numbers = list(range((self.rows-2)*(self.columns-2)))\n",
        "        # problem pravi ako se pozove addTerminalRandomly i ispostavi se da se igrac nalazi na toj poziciji\n",
        "\n",
        "        ''' We form matrix that has dimensions rows*columns, but the outer ring of the matrix are walls'''\n",
        "        self.board = [[WallCell(1) for i in range(columns)] for j in range(rows)]\n",
        "        for i in range(rows):\n",
        "          for j in range(columns):\n",
        "            if i>=1 and i<rows-1 and j>=1 and j<columns-1:\n",
        "              self.board[i][j] = RegularCell(-1)\n",
        "\n",
        "    def change_cell(self, pos_x: int, pos_y: int, cell_type: Cell):\n",
        "        ''' Changing the type of the cell on the position (pos_x, pos_y)\n",
        "        '''\n",
        "        self.board[pos_y][pos_x] = cell_type\n",
        "\n",
        "    def addPlayerRandomly(self):\n",
        "        ''' Method that randomly place player on the map.\n",
        "        '''\n",
        "        selected_number = random.choice(self.numbers)\n",
        "        rand_player_y, rand_player_x = divmod(selected_number, (self.columns-2))\n",
        "        self.numbers.remove(selected_number)\n",
        "        self.move_player(rand_player_x+1, rand_player_y+1)\n",
        "\n",
        "    def addTerminal(self, pos_x: int, pos_y:int, reward:int, override_cell = False):\n",
        "        ''' Adding terminal cell on position (pos_x, pos_y) with specified reward.\n",
        "        When parameter override_cell is True, than we can place terminal cell on occupied cell (trap, wall, teleport)\n",
        "        '''\n",
        "        new_x = pos_x-1\n",
        "        new_y = pos_y-1\n",
        "        selected_number = new_x + (self.rows-2)*new_y\n",
        "        try:\n",
        "          self.numbers.remove(selected_number)  # ako ovde pukne to znaci da tu vec ima nesto\n",
        "          self.change_cell(pos_x, pos_y, TerminalCell(reward))\n",
        "        except:\n",
        "          if override_cell == True:\n",
        "            self.change_cell(pos_x, pos_y, TerminalCell(reward))\n",
        "\n",
        "    def addTeleport(self, reward:int, pos_x:int, pos_y:int, to_pos_x:int, to_pos_y:int, override_cell = False):\n",
        "        # TODO uraditi proveru da li moze da se postavi tu teleport i tako to\n",
        "        new_x = pos_x-1\n",
        "        new_y = pos_y-1\n",
        "        selected_number = new_x + (self.rows-2)*new_y\n",
        "\n",
        "        try:\n",
        "          self.numbers.remove(selected_number)  # ako ovde pukne to znaci da tu vec ima nesto\n",
        "          self.change_cell(pos_x, pos_y, TeleportCell(reward, to_pos_x, to_pos_y))\n",
        "        except:\n",
        "          if override_cell == True:\n",
        "            self.change_cell(pos_x, pos_y, TeleportCell(reward, to_pos_x, to_pos_y))\n",
        "\n",
        "\n",
        "    def addTerminalRandomly(self, reward: int):\n",
        "        ''' Method that randomly place terminal cell with specified reward.\n",
        "        '''\n",
        "        selected_number = random.choice(self.numbers)\n",
        "        terminal_y, terminal_x = divmod(selected_number, (self.columns-2))\n",
        "        self.numbers.remove(selected_number)\n",
        "        self.change_cell(terminal_x+1, terminal_y+1, TerminalCell(reward))\n",
        "\n",
        "    def addTrapRandomly(self, reward: int):\n",
        "        ''' Method that randomly place trap cell with specified reward.\n",
        "        '''\n",
        "        selected_number = random.choice(self.numbers)\n",
        "        terminal_y, terminal_x = divmod(selected_number, (self.columns-2))\n",
        "        self.numbers.remove(selected_number)\n",
        "        self.change_cell(terminal_x+1, terminal_y+1, TrapCell(reward))\n",
        "\n",
        "    def addWallRandomly(self, reward=0):\n",
        "        ''' Method that randomly place wall cell.\n",
        "        '''\n",
        "        selected_number = random.choice(self.numbers)\n",
        "        terminal_y, terminal_x = divmod(selected_number, (self.columns-2))\n",
        "        self.numbers.remove(selected_number)\n",
        "        self.change_cell(terminal_x+1, terminal_y+1, WallCell(reward))\n",
        "\n",
        "    def get_board(self):\n",
        "        ''' Returns the board matrix with cells.'''\n",
        "        return self.board\n",
        "\n",
        "    def get_points(self):\n",
        "        ''' Returns the current points that player has.'''\n",
        "        return self.player_points\n",
        "\n",
        "    def get_current_cell_reward(self):\n",
        "        return self.board[self.player_y][self.player_x].get_reward()\n",
        "\n",
        "    def update_points(self):\n",
        "        ''' Updating current poins that player has with cell reward on his current position.'''\n",
        "        self.player_points = self.player_points + self.board[self.player_y][self.player_x].get_reward()\n",
        "\n",
        "    def move_player(self, pos_x: int, pos_y: int):\n",
        "        ''' Moves player to the (pos_x, pos_y) if it's not a wall.'''\n",
        "        if isinstance(self.board[pos_y][pos_x], TeleportCell):\n",
        "          self.move_player(self.board[pos_y][pos_x].to_pos_x, self.board[pos_y][pos_x].to_pos_y)\n",
        "          # Ovde problem moze da predstavlja ako se teleportuje na zid, jer je u tom slucaju nece pomeriti i stajace zakucan u mestu\n",
        "          #self.player_x = self.board[pos_y][pos_x].to_pos_x\n",
        "          #self.player_y = self.board[pos_y][pos_x].to_pos_y\n",
        "          return True\n",
        "\n",
        "        if not isinstance(self.board[pos_y][pos_x], WallCell):\n",
        "          self.player_x = pos_x\n",
        "          self.player_y = pos_y\n",
        "          return True\n",
        "        return False\n",
        "\n",
        "    def is_game_over(self):\n",
        "        ''' Checking if player is standing on a terminal cell. If it is, than that's the players wins.'''\n",
        "        if isinstance(self.board[self.player_y][self.player_x], TerminalCell):\n",
        "          self.game_over = True;\n",
        "        return self.game_over\n",
        "\n",
        "    def is_cell_terminal(self):\n",
        "        ''' Checking if current cell is terminal.'''\n",
        "        if isinstance(self.board[self.player_y][self.player_x], TerminalCell):\n",
        "          return True\n",
        "        else:\n",
        "          return False\n",
        "\n",
        "    def move_up(self):\n",
        "        ''' Moving player one cell up.'''\n",
        "        is_moved = self.move_player(self.player_x, self.player_y - 1)\n",
        "        self.update_points()\n",
        "        self.is_game_over()\n",
        "        return is_moved\n",
        "\n",
        "    def move_down(self):\n",
        "        ''' Moving player one cell down.'''\n",
        "        is_moved = self.move_player(self.player_x, self.player_y + 1)\n",
        "        self.update_points()\n",
        "        self.is_game_over()\n",
        "        return is_moved\n",
        "\n",
        "    def move_left(self):\n",
        "        ''' Moving player one cell left.'''\n",
        "        is_moved = self.move_player(self.player_x - 1, self.player_y)\n",
        "        self.update_points()\n",
        "        self.is_game_over()\n",
        "        return is_moved\n",
        "\n",
        "    def move_right(self):\n",
        "        ''' Moving player one cell right.'''\n",
        "        is_moved = self.move_player(self.player_x + 1, self.player_y)\n",
        "        self.update_points()\n",
        "        self.is_game_over()\n",
        "        return is_moved\n",
        "\n",
        "    def get_state_list(self):\n",
        "        for i in range(self.rows):\n",
        "            for j in range(self.columns):\n",
        "              if not isinstance(self.board[i][j], WallCell):\n",
        "                self.state_list.append((j, i))    # (x,y) tuple\n",
        "        return self.state_list"
      ],
      "metadata": {
        "id": "AvAaSm2Gqs56"
      },
      "execution_count": 38,
      "outputs": []
    },
    {
      "cell_type": "markdown",
      "source": [
        "## Helper functions"
      ],
      "metadata": {
        "id": "v_OxQsH73D9T"
      }
    },
    {
      "cell_type": "code",
      "source": [
        "def showBoardWithGrid(board):\n",
        "  ''' Showing board with grid.'''\n",
        "  plt.pcolormesh(board, edgecolors='k', linewidth=2)\n",
        "  plt.text(Tabla.player_x + 0.5, Tabla.player_y + 0.5,  \"и\", fontsize=30, ha = 'center', va = 'center')\n",
        "\n",
        "  # PODESITI VELICINU TEKSTA SPRAM DIMENZIJA MATRICE\n",
        "  ax = plt.gca()\n",
        "  ax.set_aspect('equal')\n",
        "  ax.invert_yaxis()"
      ],
      "metadata": {
        "id": "Uf1ST9V6R81K"
      },
      "execution_count": 39,
      "outputs": []
    },
    {
      "cell_type": "code",
      "source": [
        "def showBoardWithGridAndScores(board, values, show_text: bool, rows, columns):\n",
        "  ''' Showing board with grid.'''\n",
        "  scale = max(rows, columns)\n",
        "  plt.figure(figsize=(scale/2, scale/2))\n",
        "  plt.pcolormesh(board, edgecolors='k', linewidth=2)\n",
        "\n",
        "  for state in values:\n",
        "    if show_text:\n",
        "      plt.text(state[0] + 0.5, state[1] + 0.5,  f\"{values[state]:.1f}\", fontsize=10, ha = 'center', va = 'center')\n",
        "  ax = plt.gca()\n",
        "  ax.set_aspect('equal')\n",
        "  ax.invert_yaxis()"
      ],
      "metadata": {
        "id": "RQ3gHB4V0ROK"
      },
      "execution_count": 40,
      "outputs": []
    },
    {
      "cell_type": "code",
      "source": [
        "def refreshBoard(board):\n",
        "  ''' Refresing the board with new player position.'''\n",
        "  new_board = copy.deepcopy(board)\n",
        "  # bojenje igraca u plavo new_board[Tabla.player_y][Tabla.player_x] = hex_to_rgb(COLOUR_PLAYER)\n",
        "  return new_board"
      ],
      "metadata": {
        "id": "ONxMvkkwYe4Q"
      },
      "execution_count": 41,
      "outputs": []
    },
    {
      "cell_type": "code",
      "source": [
        "def hex_to_rgb(hex_value):\n",
        "    ''' Function that gives rbg code from hex value.'''\n",
        "    value = hex_value.lstrip('#')\n",
        "    lv = len(value)\n",
        "    return tuple(int(value[i:i + lv // 3], 16) for i in range(0, lv, lv // 3))"
      ],
      "metadata": {
        "id": "V2qJ9V2VzlJD"
      },
      "execution_count": 42,
      "outputs": []
    },
    {
      "cell_type": "markdown",
      "source": [
        "## Adding board, player, terminal cell, traps and walls"
      ],
      "metadata": {
        "id": "PASv5MJAveaj"
      }
    },
    {
      "cell_type": "code",
      "source": [
        "def generate_map(rows, columns):\n",
        "  Tabla = Board(rows, columns, 1, 1)\n",
        "  Tabla.addPlayerRandomly()\n",
        "  for _ in range(NUMBER_OF_TERMINALS):\n",
        "    Tabla.addTerminalRandomly(REWARD_TERMINAL)\n",
        "  for _ in range(NUMBER_OF_TRAPS):\n",
        "    Tabla.addTrapRandomly(REWARD_TRAP)\n",
        "  for _ in range(NUMBER_OF_ADDED_WALLS):\n",
        "    Tabla.addWallRandomly()\n",
        "\n",
        "  slika = Tabla.get_board()\n",
        "\n",
        "  board = np.ones(shape=(rows, columns, 3), dtype=np.uint8)\n",
        "  ''' Coloring the squares accordion to cells.'''\n",
        "  for i in range(rows):\n",
        "    for j in range(columns):\n",
        "      if isinstance(slika[i][j], RegularCell):\n",
        "        # Red Green Blue format\n",
        "        board[i,j,:] = hex_to_rgb(COLOUR_REGULAR)\n",
        "      else:\n",
        "        if isinstance(slika[i][j], WallCell):\n",
        "          board[i,j,:] = hex_to_rgb(COLOUR_WALL)\n",
        "        else:\n",
        "          if isinstance(slika[i][j], TerminalCell):\n",
        "            board[i,j,:] = hex_to_rgb(COLOUR_TERMINAL)\n",
        "          else:\n",
        "            if isinstance(slika[i][j], TrapCell):\n",
        "              board[i,j,:] = hex_to_rgb(COLOUR_TRAP)\n",
        "  return Tabla, board"
      ],
      "metadata": {
        "id": "T-Ql7nTAcJna"
      },
      "execution_count": 43,
      "outputs": []
    },
    {
      "cell_type": "code",
      "source": [
        "# Adding board manually\n",
        "Tabla = Board(ROWS, COLUMNS, 1, 1)\n",
        "Tabla.addPlayerRandomly()\n",
        "for _ in range(NUMBER_OF_TERMINALS):\n",
        "  Tabla.addTerminalRandomly(REWARD_TERMINAL)\n",
        "for _ in range(NUMBER_OF_TRAPS):\n",
        "  Tabla.addTrapRandomly(REWARD_TRAP)\n",
        "for _ in range(NUMBER_OF_ADDED_WALLS):\n",
        "  Tabla.addWallRandomly()\n",
        "\n",
        "\n",
        "slika = Tabla.get_board()\n",
        "\n",
        "board = np.ones(shape=(ROWS, COLUMNS, 3), dtype=np.uint8)\n",
        "''' Coloring the squares accordion to cells.'''\n",
        "for i in range(ROWS):\n",
        "  for j in range(COLUMNS):\n",
        "    if isinstance(slika[i][j], RegularCell):\n",
        "      # Red Green Blue format\n",
        "      board[i,j,:] = hex_to_rgb(COLOUR_REGULAR)\n",
        "    else:\n",
        "      if isinstance(slika[i][j], WallCell):\n",
        "        board[i,j,:] = hex_to_rgb(COLOUR_WALL)\n",
        "      else:\n",
        "        if isinstance(slika[i][j], TerminalCell):\n",
        "          board[i,j,:] = hex_to_rgb(COLOUR_TERMINAL)\n",
        "        else:\n",
        "          if isinstance(slika[i][j], TrapCell):\n",
        "            board[i,j,:] = hex_to_rgb(COLOUR_TRAP)\n",
        "          else:\n",
        "            if isinstance(slika[i][j], TeleportCell):\n",
        "              board[i,j,:] = hex_to_rgb(COLOUR_TELEPORT)"
      ],
      "metadata": {
        "id": "2LRIoLEJxTA0"
      },
      "execution_count": 44,
      "outputs": []
    },
    {
      "cell_type": "code",
      "source": [
        "slika = Tabla.get_board()\n",
        "\n",
        "board = np.ones(shape=(ROWS, COLUMNS, 3), dtype=np.uint8)\n",
        "''' Coloring the squares accordion to cells.'''\n",
        "for i in range(ROWS):\n",
        "  for j in range(COLUMNS):\n",
        "    if isinstance(slika[i][j], RegularCell):\n",
        "      # Red Green Blue format\n",
        "      board[i,j,:] = hex_to_rgb(COLOUR_REGULAR)\n",
        "    else:\n",
        "      if isinstance(slika[i][j], WallCell):\n",
        "        board[i,j,:] = hex_to_rgb(COLOUR_WALL)\n",
        "      else:\n",
        "        if isinstance(slika[i][j], TerminalCell):\n",
        "          board[i,j,:] = hex_to_rgb(COLOUR_TERMINAL)\n",
        "        else:\n",
        "          if isinstance(slika[i][j], TrapCell):\n",
        "            board[i,j,:] = hex_to_rgb(COLOUR_TRAP)\n",
        "          else:\n",
        "            if isinstance(slika[i][j], TeleportCell):\n",
        "              board[i,j,:] = hex_to_rgb(COLOUR_TELEPORT)\n",
        "              x = slika[i][j].to_pos_x\n",
        "              y = slika[i][j].to_pos_y"
      ],
      "metadata": {
        "id": "l7mb7Rvl36O3"
      },
      "execution_count": 45,
      "outputs": []
    },
    {
      "cell_type": "markdown",
      "source": [
        "## Playing the game manually"
      ],
      "metadata": {
        "id": "LOdN7ZGsebLJ"
      }
    },
    {
      "cell_type": "code",
      "source": [
        "direction_input = \"STAY\" # @param [\"UP\", \"RIGHT\", \"DOWN\", \"LEFT\", \"STAY\"]\n",
        "# ovo su nam akcije koje nas agent moze da koristi\n",
        "\n",
        "if direction_input == \"UP\":\n",
        "  is_moved = Tabla.move_up()\n",
        "if direction_input == \"DOWN\":\n",
        "  is_moved = Tabla.move_down()\n",
        "if direction_input == \"LEFT\":\n",
        "  is_moved = Tabla.move_left()\n",
        "if direction_input == \"RIGHT\":\n",
        "  is_moved = Tabla.move_right()\n",
        "\n",
        "showBoardWithGrid(refreshBoard(board))\n",
        "print(\"Player current points:\" + str(Tabla.get_points()))\n",
        "print(f\"Does i moved: {is_moved}, is terminal = {Tabla.is_cell_terminal()}, and this cell costs {Tabla.get_current_cell_reward()}\")"
      ],
      "metadata": {
        "colab": {
          "base_uri": "https://localhost:8080/",
          "height": 471
        },
        "id": "QPkzInQHaENJ",
        "outputId": "cbe199a6-e553-41c2-c5f1-c7c4a37da943",
        "cellView": "form"
      },
      "execution_count": 46,
      "outputs": [
        {
          "output_type": "stream",
          "name": "stdout",
          "text": [
            "Player current points:0\n",
            "Does i moved: True, is terminal = False, and this cell costs -1\n"
          ]
        },
        {
          "output_type": "display_data",
          "data": {
            "text/plain": [
              "<Figure size 640x480 with 1 Axes>"
            ],
            "image/png": "[encoded data removed]"
          },
          "metadata": {}
        }
      ]
    },
    {
      "cell_type": "markdown",
      "source": [
        "## Implementing algorithm"
      ],
      "metadata": {
        "id": "RoPnkoFxlEm2"
      }
    },
    {
      "cell_type": "markdown",
      "source": [
        "#### Get states to list from board"
      ],
      "metadata": {
        "id": "Ltc8htiXsfjj"
      }
    },
    {
      "cell_type": "code",
      "source": [
        "states_list = Tabla.get_state_list()\n",
        "\n",
        "values = {s: random.random() for s in states_list}\n",
        "\n",
        "for s in values:\n",
        "    if isinstance(Tabla.board[s[1]][s[0]], TerminalCell):\n",
        "        values[s] = 0\n"
      ],
      "metadata": {
        "id": "Ab3a2XDfvmKL"
      },
      "execution_count": 47,
      "outputs": []
    },
    {
      "cell_type": "markdown",
      "source": [
        "#### Implementacija algoritma, prvi pokusaj\n",
        "**NE RADI**"
      ],
      "metadata": {
        "id": "hCR1BGa5XyFs"
      }
    },
    {
      "cell_type": "code",
      "source": [
        "'''\n",
        "directions = [\"UP\", \"RIGHT\", \"DOWN\", \"LEFT\"]\n",
        "\n",
        "eps = 0.1\n",
        "gamma = 0.5\n",
        "v = 0;\n",
        "\n",
        "v_tilda = 0.002\n",
        "#while v_tilda < eps:\n",
        "for state in states_dictionary:\n",
        "  v_explored = []\n",
        "  Tabla.player_x = state[0]\n",
        "  Tabla.player_y = state[1]\n",
        "  for direction in directions:\n",
        "    r = Tabla.board[state[1]][state[0]].get_reward()\n",
        "    if direction == \"UP\":\n",
        "      is_moved = Tabla.move_up()\n",
        "      if is_moved:\n",
        "        if not Tabla.is_cell_terminal():\n",
        "          v_explored.append( r + gamma*states_dictionary[(state[0], state[1]-1)] )\n",
        "          Tabla.move_down()\n",
        "      else:\n",
        "        v_explored.append(r+gamma*r)\n",
        "    if direction == \"DOWN\":\n",
        "      is_moved = Tabla.move_down()\n",
        "      if is_moved:\n",
        "        if not Tabla.is_cell_terminal():\n",
        "          v_explored.append( r + gamma*states_dictionary[(state[0], state[1]+1)] )\n",
        "          Tabla.move_up()\n",
        "      else:\n",
        "        v_explored.append(r+gamma*r)\n",
        "    if direction == \"LEFT\":\n",
        "      is_moved = Tabla.move_left()\n",
        "      if is_moved:\n",
        "        if not Tabla.is_cell_terminal():\n",
        "          v_explored.append( r + gamma*states_dictionary[(state[0]-1, state[1])] )\n",
        "          Tabla.move_right()\n",
        "      else:\n",
        "        v_explored.append(r+gamma*r)\n",
        "    if direction == \"RIGHT\":\n",
        "      is_moved = Tabla.move_right()\n",
        "      if is_moved:\n",
        "        if not Tabla.is_cell_terminal():\n",
        "          v_explored.append( r + gamma*states_dictionary[(state[0]+1, state[1])] )\n",
        "          Tabla.move_left()\n",
        "      else:\n",
        "        v_explored.append(r+gamma*r)\n",
        "  v_new = max(v_explored)\n",
        "\n",
        "  states_dictionary[(state[0], state[1])] = v_new\n",
        "\n",
        "      #if abs(v_new - states_dictionary[(state_value[0], state_value[1])]) > v_tilda:\n",
        "      #  v_tilda = abs(v_new - states_dictionary[(state_value[0], state_value[1])])\n",
        "'''"
      ],
      "metadata": {
        "id": "v2xUdSWnwX5b",
        "colab": {
          "base_uri": "https://localhost:8080/",
          "height": 1000
        },
        "outputId": "88851151-1f07-4bf4-d106-590f740185ea"
      },
      "execution_count": 48,
      "outputs": [
        {
          "output_type": "execute_result",
          "data": {
            "text/plain": [
              "'\\ndirections = [\"UP\", \"RIGHT\", \"DOWN\", \"LEFT\"]\\n\\neps = 0.1\\ngamma = 0.5\\nv = 0;\\n\\nv_tilda = 0.002\\n#while v_tilda < eps:\\nfor state in states_dictionary:\\n  v_explored = []\\n  Tabla.player_x = state[0]\\n  Tabla.player_y = state[1]\\n  for direction in directions:\\n    r = Tabla.board[state[1]][state[0]].get_reward()\\n    if direction == \"UP\":\\n      is_moved = Tabla.move_up()\\n      if is_moved:\\n        if not Tabla.is_cell_terminal():\\n          v_explored.append( r + gamma*states_dictionary[(state[0], state[1]-1)] )\\n          Tabla.move_down()\\n      else:\\n        v_explored.append(r+gamma*r)\\n    if direction == \"DOWN\":\\n      is_moved = Tabla.move_down()\\n      if is_moved:\\n        if not Tabla.is_cell_terminal():\\n          v_explored.append( r + gamma*states_dictionary[(state[0], state[1]+1)] )\\n          Tabla.move_up()\\n      else:\\n        v_explored.append(r+gamma*r)\\n    if direction == \"LEFT\":\\n      is_moved = Tabla.move_left()\\n      if is_moved:\\n        if not Tabla.is_cell_terminal():\\n          v_explored.append( r + gamma*states_dictionary[(state[0]-1, state[1])] )\\n          Tabla.move_right()\\n      else:\\n        v_explored.append(r+gamma*r)\\n    if direction == \"RIGHT\":\\n      is_moved = Tabla.move_right()\\n      if is_moved:\\n        if not Tabla.is_cell_terminal():\\n          v_explored.append( r + gamma*states_dictionary[(state[0]+1, state[1])] )\\n          Tabla.move_left()\\n      else:\\n        v_explored.append(r+gamma*r)\\n  v_new = max(v_explored)\\n\\n  states_dictionary[(state[0], state[1])] = v_new\\n\\n      #if abs(v_new - states_dictionary[(state_value[0], state_value[1])]) > v_tilda:\\n      #  v_tilda = abs(v_new - states_dictionary[(state_value[0], state_value[1])])\\n'"
            ],
            "application/vnd.google.colaboratory.intrinsic+json": {
              "type": "string"
            }
          },
          "metadata": {},
          "execution_count": 48
        }
      ]
    },
    {
      "cell_type": "markdown",
      "source": [
        "#### Implementacija algoritma, drugi pokusaj 😍\n",
        "\n"
      ],
      "metadata": {
        "id": "q3JEmDcmX2qj"
      }
    },
    {
      "cell_type": "code",
      "source": [
        "def compute_v(player_x, player_y, values, gamma):\n",
        "  rhs = []\n",
        "  for a in [\"UP\", \"RIGHT\", \"DOWN\", \"LEFT\"]:\n",
        "      Tabla.player_x = player_x;\n",
        "      Tabla.player_y = player_y;\n",
        "      r = Tabla.get_current_cell_reward()\n",
        "\n",
        "      if a == \"UP\":\n",
        "        Tabla.move_up()\n",
        "      if a == \"DOWN\":\n",
        "        Tabla.move_down()\n",
        "      if a == \"LEFT\":\n",
        "        Tabla.move_left()\n",
        "      if a == \"RIGHT\":\n",
        "        Tabla.move_right()\n",
        "\n",
        "      rhs.append( r + gamma*values[(Tabla.player_x, Tabla.player_y)] )\n",
        "  return max(rhs)"
      ],
      "metadata": {
        "id": "zH5a_RNPlQig"
      },
      "execution_count": 49,
      "outputs": []
    },
    {
      "cell_type": "code",
      "source": [
        "def iteration_by_value(number_of_iterations, gamma, values):\n",
        "  for _ in range(number_of_iterations):\n",
        "    for s in values:\n",
        "      Tabla.player_x = s[0];\n",
        "      Tabla.player_y = s[1];\n",
        "\n",
        "      if not Tabla.is_cell_terminal():\n",
        "        values[s] = compute_v(s[0], s[1], values, gamma)\n",
        "  return values"
      ],
      "metadata": {
        "id": "RvN_KbNTX6Kz"
      },
      "execution_count": 50,
      "outputs": []
    },
    {
      "cell_type": "markdown",
      "source": [
        "# Simulating system"
      ],
      "metadata": {
        "id": "9zzTDSVolyl9"
      }
    },
    {
      "cell_type": "code",
      "source": [
        "number_of_iterations = 20 # @param {type:\"slider\", min:1, max:20, step:1}\n",
        "gamma = 1 # @param {type:\"slider\", min:0, max:1, step:0.1}\n",
        "refresh_board = True # @param {type:\"boolean\"}\n",
        "show_text = True # @param {type:\"boolean\"}\n",
        "\n",
        "\n",
        "ROWS_NUMBER = 12 # @param {type:\"integer\"}\n",
        "COLUMNS_NUMBER = 12 # @param {type:\"integer\"}\n",
        "\n",
        "\n",
        "if refresh_board == True:\n",
        "  Tabla, board = generate_map(ROWS_NUMBER, COLUMNS_NUMBER)\n",
        "\n",
        "states_list = Tabla.get_state_list()\n",
        "\n",
        "values = {s: random.random() for s in states_list}\n",
        "\n",
        "for s in values:\n",
        "    if isinstance(Tabla.board[s[1]][s[0]], TerminalCell):\n",
        "        values[s] = 0\n",
        "v = iteration_by_value(number_of_iterations, gamma, values)\n",
        "\n",
        "showBoardWithGridAndScores(refreshBoard(board), v, show_text, ROWS_NUMBER, COLUMNS_NUMBER)\n"
      ],
      "metadata": {
        "colab": {
          "base_uri": "https://localhost:8080/",
          "height": 528
        },
        "id": "lcoZomlw0Jpn",
        "outputId": "85591e2d-510b-4588-f562-2bc35920bbb6",
        "cellView": "form"
      },
      "execution_count": 56,
      "outputs": [
        {
          "output_type": "display_data",
          "data": {
            "text/plain": [
              "<Figure size 600x600 with 1 Axes>"
            ],
            "image/png": "[encoded data removed]"
          },
          "metadata": {}
        }
      ]
    }
  ]
}